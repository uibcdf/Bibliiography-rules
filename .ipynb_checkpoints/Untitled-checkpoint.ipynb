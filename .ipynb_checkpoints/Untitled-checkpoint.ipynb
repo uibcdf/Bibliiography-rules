{
 "cells": [
  {
   "cell_type": "code",
   "execution_count": 99,
   "metadata": {},
   "outputs": [],
   "source": [
    "import pybtex\n",
    "from pybtex.database import parse_file\n",
    "import re"
   ]
  },
  {
   "cell_type": "code",
   "execution_count": 6,
   "metadata": {},
   "outputs": [],
   "source": [
    "bd = parse_file('bibliography.bib')"
   ]
  },
  {
   "cell_type": "code",
   "execution_count": 48,
   "metadata": {},
   "outputs": [],
   "source": [
    "xx = bd.entries['Craig2010']"
   ]
  },
  {
   "cell_type": "code",
   "execution_count": 50,
   "metadata": {},
   "outputs": [
    {
     "data": {
      "text/plain": [
       "'article'"
      ]
     },
     "execution_count": 50,
     "metadata": {},
     "output_type": "execute_result"
    }
   ],
   "source": [
    "xx.type"
   ]
  },
  {
   "cell_type": "code",
   "execution_count": 173,
   "metadata": {},
   "outputs": [
    {
     "data": {
      "text/plain": [
       "OrderedCaseInsensitiveDict([('abstract', 'Docking into multiple receptor conformations (ensemble docking) has been proposed, and employed, in the hope that it may account for receptor flexibility in virtual screening and thus provide higher enrichments than docking into single rigid receptor structures. The statistical analyses presented in this paper provide quantitative evidence that in some cases docking into a crystallographically derived conformational ensemble does indeed yield better enrichment than docking into any of the individual members of the ensemble. However, these successful ensembles account for only a minority of those examined and it would not have been possible to prospectively predict their identity using only protein structural information. A more frequently observed outcome is that the ensemble enrichment is higher than the mean of the enrichments provided by its individual members. An additional and promising finding is that, if a set of known active compounds is available, an approach based on induced-fit docking appears to be a reliable way to construct ensembles which provide relatively high enrichments. {\\\\textcopyright} 2010 American Chemical Society.'), ('doi', '10.1021/ci900407c'), ('file', ':home/diego/MendeleyDesktop/Craig, Essex, Spiegel/2010/Craig, Essex, Spiegel - 2010 - Ensemble docking into multiple crystallographically derived protein structures An evaluation based on the.pdf:pdf'), ('issn', '15499596'), ('journal', 'J. Chem. Inf. Model.'), ('keywords', 'benchmarking,docking,ensemble'), ('mendeley-tags', 'benchmarking,docking,ensemble'), ('number', '4'), ('pages', '511--524'), ('pmid', '20222690'), ('title', '{Ensemble docking into multiple crystallographically derived protein structures: An evaluation based on the statistical analysis of enrichments}'), ('volume', '50'), ('year', '2010')])"
      ]
     },
     "execution_count": 173,
     "metadata": {},
     "output_type": "execute_result"
    }
   ],
   "source": [
    "bd.entries['Craig2010'].fields"
   ]
  },
  {
   "cell_type": "code",
   "execution_count": 211,
   "metadata": {},
   "outputs": [],
   "source": [
    "aa = bd.entries['Perricone2018']"
   ]
  },
  {
   "cell_type": "code",
   "execution_count": 212,
   "metadata": {},
   "outputs": [
    {
     "data": {
      "text/plain": [
       "'Perricone2018'"
      ]
     },
     "execution_count": 212,
     "metadata": {},
     "output_type": "execute_result"
    }
   ],
   "source": [
    "aa.key"
   ]
  },
  {
   "cell_type": "code",
   "execution_count": 75,
   "metadata": {},
   "outputs": [
    {
     "data": {
      "text/plain": [
       "[]"
      ]
     },
     "execution_count": 75,
     "metadata": {},
     "output_type": "execute_result"
    }
   ],
   "source": [
    "dd.prelast_names"
   ]
  },
  {
   "cell_type": "code",
   "execution_count": 62,
   "metadata": {},
   "outputs": [],
   "source": [
    "dd = aa['author'][0]"
   ]
  },
  {
   "cell_type": "code",
   "execution_count": 98,
   "metadata": {},
   "outputs": [
    {
     "data": {
      "text/plain": [
       "re.compile(r'^(.+),\\s*(.+),\\s*(.+)$', re.UNICODE)"
      ]
     },
     "execution_count": 98,
     "metadata": {},
     "output_type": "execute_result"
    }
   ],
   "source": [
    "dd.style2_re"
   ]
  },
  {
   "cell_type": "code",
   "execution_count": 95,
   "metadata": {},
   "outputs": [],
   "source": [
    "tt = rr.findall('carmen')"
   ]
  },
  {
   "cell_type": "code",
   "execution_count": 96,
   "metadata": {},
   "outputs": [
    {
     "data": {
      "text/plain": [
       "[]"
      ]
     },
     "execution_count": 96,
     "metadata": {},
     "output_type": "execute_result"
    }
   ],
   "source": [
    "tt"
   ]
  },
  {
   "cell_type": "code",
   "execution_count": 40,
   "metadata": {},
   "outputs": [
    {
     "data": {
      "text/plain": [
       "16"
      ]
     },
     "execution_count": 40,
     "metadata": {},
     "output_type": "execute_result"
    }
   ],
   "source": [
    "aa[1:-1].count(' ')"
   ]
  },
  {
   "cell_type": "code",
   "execution_count": 207,
   "metadata": {},
   "outputs": [],
   "source": [
    "def key_uibcdf(entry):\n",
    "\n",
    "    new_key = None\n",
    "    \n",
    "    entry_type = entry.original_type\n",
    "    \n",
    "    if entry_type=='article':\n",
    "        \n",
    "        first_family_name = entry.persons['author'][0].last_names[0]\n",
    "        new_key = re.sub('[^a-zA-Z0-9_-]', '', first_family_name)\n",
    "        \n",
    "        year = entry.fields['year']\n",
    "        new_key += year\n",
    "                         \n",
    "        title = entry.fields['title'][1:-1]\n",
    "        title_first_word = title.split(' ')[0]\n",
    "        title_first_word = re.sub('[^a-zA-Z0-9_-]', '', title_first_word)\n",
    "        title_alphanum = re.sub('[^a-zA-Z0-9_-]', '', title)\n",
    "        new_key += title_first_word\n",
    "        new_key += '_'\n",
    "        new_key += title_alphanum[-2:]       \n",
    "\n",
    "        if 'doi' in entry.fields:\n",
    "            doi = entry.fields['doi']\n",
    "            last_part_doi = doi.split('/')[-1]\n",
    "            new_key += last_part_doi[0]\n",
    "            new_key += last_part_doi[-1]\n",
    "    \n",
    "    else:\n",
    "        print('eh!', entry_type)\n",
    "        \n",
    "    return new_key"
   ]
  },
  {
   "cell_type": "code",
   "execution_count": 231,
   "metadata": {},
   "outputs": [
    {
     "name": "stdout",
     "output_type": "stream",
     "text": [
      "Bowman2014\n",
      "Perricone2018\n",
      "Berman2000The_nk25\n",
      "Amaro2018Ensemble_ryj8\n",
      "Kim2010Pharmacophore-based_ns12\n",
      "Khedkar2007Pharmacophore_ew11\n",
      "Guner2014Setting_ptc3\n",
      "Wieder2016Comparing_nss1\n",
      "Morgan1965The_cec8\n",
      "Polishchuk2019Virtual_nsi4\n",
      "Noe2007Hierarchical_es19\n",
      "Sydow2015Dynophores_es\n",
      "Yang2010Pharmacophore_esj3\n",
      "Cournia2020Rigorous_nga6\n",
      "Schaller2020Next_ngw8\n",
      "Duan2010Analysis_dsj8\n",
      "Wieder2017Common_nsa4\n",
      "Sastry2010Large-scale_tscn\n",
      "PatrickWalters1998Virtual_ewsx\n",
      "Prada-Gracia2009Exploring_ckj5\n",
      "Perez2020AdaptiveBandit_nsa5\n",
      "Noe2008Transition_esj8\n",
      "Amaro2010Emerging_ng19\n",
      "Carlson1999Method_gnjz\n"
     ]
    }
   ],
   "source": [
    "for entry in bd.entries:\n",
    "    print(entry)"
   ]
  },
  {
   "cell_type": "code",
   "execution_count": 230,
   "metadata": {},
   "outputs": [
    {
     "name": "stdout",
     "output_type": "stream",
     "text": [
      "eh! book\n",
      "eh! incollection\n"
     ]
    }
   ],
   "source": [
    "for entry in list(bd.entries.keys()):\n",
    "    new_key = key_uibcdf(bd.entries[entry])\n",
    "    if new_key is not None:\n",
    "        bd.entries[entry].key = new_key\n",
    "        bd.add_entry(new_key, bd.entries.pop(entry))"
   ]
  },
  {
   "cell_type": "code",
   "execution_count": 224,
   "metadata": {},
   "outputs": [
    {
     "ename": "TypeError",
     "evalue": "add_entry() missing 2 required positional arguments: 'key' and 'entry'",
     "output_type": "error",
     "traceback": [
      "\u001b[0;31m---------------------------------------------------------------------------\u001b[0m",
      "\u001b[0;31mTypeError\u001b[0m                                 Traceback (most recent call last)",
      "\u001b[0;32m<ipython-input-224-44a1a8ec7d21>\u001b[0m in \u001b[0;36m<module>\u001b[0;34m\u001b[0m\n\u001b[0;32m----> 1\u001b[0;31m \u001b[0mbd\u001b[0m\u001b[0;34m.\u001b[0m\u001b[0madd_entry\u001b[0m\u001b[0;34m(\u001b[0m\u001b[0;34m)\u001b[0m\u001b[0;34m\u001b[0m\u001b[0;34m\u001b[0m\u001b[0m\n\u001b[0m",
      "\u001b[0;31mTypeError\u001b[0m: add_entry() missing 2 required positional arguments: 'key' and 'entry'"
     ]
    }
   ],
   "source": [
    "bd.add_entry()"
   ]
  },
  {
   "cell_type": "code",
   "execution_count": 216,
   "metadata": {},
   "outputs": [
    {
     "name": "stdout",
     "output_type": "stream",
     "text": [
      "Craig2010\n",
      "Craig2010Ensemble_tscc\n",
      "Carlson1999\n",
      "Carlson1999Method_gnjz\n",
      "Berman2000a\n",
      "Berman2000The_nk25\n",
      "Amaro2018\n",
      "Amaro2018Ensemble_ryj8\n",
      "Kim2010b\n",
      "Kim2010Pharmacophore-based_ns12\n",
      "Khedkar2007\n",
      "Khedkar2007Pharmacophore_ew11\n",
      "Guner2014\n",
      "Guner2014Setting_ptc3\n",
      "Wieder2016a\n",
      "Wieder2016Comparing_nss1\n",
      "Morgan1965\n",
      "Morgan1965The_cec8\n",
      "Polishchuk2019\n",
      "Polishchuk2019Virtual_nsi4\n",
      "Noe2007\n",
      "Noe2007Hierarchical_es19\n",
      "Sydow2015\n",
      "Sydow2015Dynophores_es\n",
      "Yang2010\n",
      "Yang2010Pharmacophore_esj3\n",
      "Cournia2020\n",
      "Cournia2020Rigorous_nga6\n",
      "Schaller2020\n",
      "Schaller2020Next_ngw8\n",
      "Duan2010\n",
      "Duan2010Analysis_dsj8\n",
      "Wieder2017\n",
      "Wieder2017Common_nsa4\n",
      "Bowman2014\n",
      "Bowman2014\n",
      "Sastry2010\n",
      "Sastry2010Large-scale_tscn\n",
      "PatrickWalters1998\n",
      "PatrickWalters1998Virtual_ewsx\n",
      "Perricone2018\n",
      "Perricone2018\n",
      "Prada-Gracia2009a\n",
      "Prada-Gracia2009Exploring_ckj5\n",
      "Perez2020a\n",
      "Perez2020AdaptiveBandit_nsa5\n",
      "Noe2008\n",
      "Noe2008Transition_esj8\n",
      "Amaro2010\n",
      "Amaro2010Emerging_ng19\n"
     ]
    }
   ],
   "source": [
    "for entry in bd.entries:\n",
    "    print(entry)\n",
    "    print(bd.entries[entry].key)"
   ]
  },
  {
   "cell_type": "code",
   "execution_count": 232,
   "metadata": {},
   "outputs": [],
   "source": [
    "bd.to_file('nada.bib')"
   ]
  },
  {
   "cell_type": "code",
   "execution_count": null,
   "metadata": {},
   "outputs": [],
   "source": []
  }
 ],
 "metadata": {
  "kernelspec": {
   "display_name": "Python 3",
   "language": "python",
   "name": "python3"
  },
  "language_info": {
   "codemirror_mode": {
    "name": "ipython",
    "version": 3
   },
   "file_extension": ".py",
   "mimetype": "text/x-python",
   "name": "python",
   "nbconvert_exporter": "python",
   "pygments_lexer": "ipython3",
   "version": "3.7.9"
  }
 },
 "nbformat": 4,
 "nbformat_minor": 4
}
